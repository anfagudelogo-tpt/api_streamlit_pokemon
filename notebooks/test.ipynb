{
 "cells": [
  {
   "cell_type": "code",
   "execution_count": 9,
   "metadata": {},
   "outputs": [],
   "source": [
    "import requests\n",
    "import pandas as pd\n",
    "import requests\n",
    "from IPython.display import display\n",
    "import requests\n",
    "from PIL import Image\n",
    "from io import BytesIO"
   ]
  },
  {
   "cell_type": "code",
   "execution_count": 5,
   "metadata": {},
   "outputs": [],
   "source": [
    "def get_pokemon_evolution(pokemon_name):\n",
    "    # Obtener información del Pokémon\n",
    "    url = f\"https://pokeapi.co/api/v2/pokemon-species/{pokemon_name.lower()}/\"\n",
    "    response = requests.get(url)\n",
    "    \n",
    "    if response.status_code != 200:\n",
    "        return f\"Error: No se encontró información para '{pokemon_name}'\"\n",
    "    \n",
    "    species_data = response.json()\n",
    "    \n",
    "    # Obtener la URL de la cadena de evolución\n",
    "    evolution_chain_url = species_data[\"evolution_chain\"][\"url\"]\n",
    "    \n",
    "    # Obtener la cadena de evolución\n",
    "    response = requests.get(evolution_chain_url)\n",
    "    if response.status_code != 200:\n",
    "        return \"Error al obtener la cadena de evolución.\"\n",
    "    \n",
    "    evolution_data = response.json()\n",
    "    \n",
    "    # Extraer la cadena de evoluciones con imágenes\n",
    "    evolution_chain = []\n",
    "    current_evolution = evolution_data[\"chain\"]\n",
    "    \n",
    "    while current_evolution:\n",
    "        species_name = current_evolution[\"species\"][\"name\"]\n",
    "        sprite_url = f\"https://pokeapi.co/api/v2/pokemon/{species_name}/\"\n",
    "        sprite_response = requests.get(sprite_url)\n",
    "        \n",
    "        if sprite_response.status_code == 200:\n",
    "            sprite_data = sprite_response.json()\n",
    "            sprite = sprite_data[\"sprites\"][\"front_default\"]\n",
    "        else:\n",
    "            sprite = None\n",
    "        \n",
    "        evolution_chain.append((species_name, sprite))\n",
    "        \n",
    "        if \"evolves_to\" in current_evolution and current_evolution[\"evolves_to\"]:\n",
    "            current_evolution = current_evolution[\"evolves_to\"][0]  # Tomamos la primera evolución\n",
    "        else:\n",
    "            break\n",
    "    \n",
    "    return evolution_chain"
   ]
  },
  {
   "cell_type": "code",
   "execution_count": 7,
   "metadata": {},
   "outputs": [
    {
     "name": "stdout",
     "output_type": "stream",
     "text": [
      "Evolución de charmander: [('charmander', 'https://raw.githubusercontent.com/PokeAPI/sprites/master/sprites/pokemon/4.png'), ('charmeleon', 'https://raw.githubusercontent.com/PokeAPI/sprites/master/sprites/pokemon/5.png'), ('charizard', 'https://raw.githubusercontent.com/PokeAPI/sprites/master/sprites/pokemon/6.png')]\n"
     ]
    }
   ],
   "source": [
    "pokemon = \"charmander\"  # Cambia esto por el nombre del Pokémon que quieras consultar\n",
    "evolutions = get_pokemon_evolution(pokemon)\n",
    "print(f\"Evolución de {pokemon}: {evolutions}\")"
   ]
  },
  {
   "cell_type": "code",
   "execution_count": 10,
   "metadata": {},
   "outputs": [
    {
     "name": "stdout",
     "output_type": "stream",
     "text": [
      "charmander\n"
     ]
    },
    {
     "data": {
      "image/png": "[encoded data removed]",
      "text/plain": [
       "<PIL.PngImagePlugin.PngImageFile image mode=P size=96x96>"
      ]
     },
     "metadata": {},
     "output_type": "display_data"
    },
    {
     "name": "stdout",
     "output_type": "stream",
     "text": [
      "charmeleon\n"
     ]
    },
    {
     "data": {
      "image/png": "[encoded data removed]",
      "text/plain": [
       "<PIL.PngImagePlugin.PngImageFile image mode=P size=96x96>"
      ]
     },
     "metadata": {},
     "output_type": "display_data"
    },
    {
     "name": "stdout",
     "output_type": "stream",
     "text": [
      "charizard\n"
     ]
    },
    {
     "data": {
      "image/png": "[encoded data removed]",
      "text/plain": [
       "<PIL.PngImagePlugin.PngImageFile image mode=P size=96x96>"
      ]
     },
     "metadata": {},
     "output_type": "display_data"
    }
   ],
   "source": [
    "for name, img_url in evolutions:\n",
    "    if img_url:\n",
    "        response = requests.get(img_url)\n",
    "        img = Image.open(BytesIO(response.content))\n",
    "        print(name)\n",
    "        display(img)"
   ]
  }
 ],
 "metadata": {
  "kernelspec": {
   "display_name": "app-pokeapi",
   "language": "python",
   "name": "python3"
  },
  "language_info": {
   "codemirror_mode": {
    "name": "ipython",
    "version": 3
   },
   "file_extension": ".py",
   "mimetype": "text/x-python",
   "name": "python",
   "nbconvert_exporter": "python",
   "pygments_lexer": "ipython3",
   "version": "3.10.4"
  }
 },
 "nbformat": 4,
 "nbformat_minor": 2
}
