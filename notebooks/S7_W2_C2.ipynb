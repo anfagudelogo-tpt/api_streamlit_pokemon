{
  "nbformat": 4,
  "nbformat_minor": 0,
  "metadata": {
    "colab": {
      "provenance": []
    },
    "kernelspec": {
      "name": "python3",
      "display_name": "Python 3"
    },
    "language_info": {
      "name": "python"
    }
  },
  "cells": [
    {
      "cell_type": "code",
      "source": [
        "import requests"
      ],
      "metadata": {
        "id": "qi4jV838xeui"
      },
      "execution_count": 1,
      "outputs": []
    },
    {
      "cell_type": "markdown",
      "source": [
        "# APIS's"
      ],
      "metadata": {
        "id": "g9Tyz7auidnt"
      }
    },
    {
      "cell_type": "markdown",
      "source": [
        "## 🌐 Introducción a las APIs en Python  \n",
        "\n",
        "### 🚀 ¿Qué es una API?  \n",
        "Una **API (Application Programming Interface)** es un intermediario que permite que dos sistemas se comuniquen entre sí.  \n",
        "\n",
        "#### 🎯 **Ejemplo en la vida real**  \n",
        "Imagina que estás en un restaurante y quieres pedir comida. Tú (el cliente) no puedes entrar a la cocina directamente. En su lugar, un **mesero** lleva tu pedido a la cocina y luego te trae la comida.  \n",
        "\n",
        "En este caso:  \n",
        "🍽️ **Tú** = Aplicación o usuario  \n",
        "📋 **El menú** = API (define qué puedes pedir)  \n",
        "👨‍🍳 **La cocina** = Servidor que procesa la solicitud  \n",
        "📝 **El mesero** = Intermediario que envía la solicitud y devuelve la respuesta  \n",
        "\n",
        "Las APIs funcionan de la misma manera:  \n",
        "1️⃣ Tú envías una solicitud (*request*).  \n",
        "2️⃣ El servidor procesa la solicitud.  \n",
        "3️⃣ El servidor responde con los datos solicitados (*response*).  \n",
        "\n",
        "---\n",
        "\n",
        "## 📡 **Tipos de APIs más comunes**  \n",
        "🔹 **APIs REST**: Basadas en HTTP y devuelven datos en formato JSON o XML.  \n",
        "🔹 **APIs SOAP**: Más antiguas, usan XML y son más rígidas.  \n",
        "🔹 **APIs GraphQL**: Permiten obtener solo los datos específicos que necesitas.  \n",
        "\n",
        "La mayoría de las APIs modernas son **RESTful** y devuelven datos en formato **JSON**, lo que las hace fáciles de usar en Python.  \n",
        "\n",
        "¡Ahora veamos cómo hacer una solicitud a una API! 🚀\n"
      ],
      "metadata": {
        "id": "_hpukaW2igNl"
      }
    },
    {
      "cell_type": "markdown",
      "source": [
        "![Alt text](https://media.geeksforgeeks.org/wp-content/uploads/20230216170349/What-is-an-API.png)"
      ],
      "metadata": {
        "id": "5pFjt0Jelfgz"
      }
    },
    {
      "cell_type": "code",
      "execution_count": 2,
      "metadata": {
        "colab": {
          "base_uri": "https://localhost:8080/"
        },
        "id": "ZFFGLRD8iYY2",
        "outputId": "d6bf47ac-7fef-4cdf-ca9b-cbb9499463dc"
      },
      "outputs": [
        {
          "output_type": "stream",
          "name": "stdout",
          "text": [
            "{'base_happiness': 50, 'capture_rate': 45, 'color': {'name': 'red', 'url': 'https://pokeapi.co/api/v2/pokemon-color/8/'}, 'egg_groups': [{'name': 'monster', 'url': 'https://pokeapi.co/api/v2/egg-group/1/'}, {'name': 'dragon', 'url': 'https://pokeapi.co/api/v2/egg-group/14/'}], 'evolution_chain': {'url': 'https://pokeapi.co/api/v2/evolution-chain/2/'}, 'evolves_from_species': None, 'flavor_text_entries': [{'flavor_text': 'Obviously prefers\\nhot places. When\\nit rains, steam\\x0cis said to spout\\nfrom the tip of\\nits tail.', 'language': {'name': 'en', 'url': 'https://pokeapi.co/api/v2/language/9/'}, 'version': {'name': 'red', 'url': 'https://pokeapi.co/api/v2/version/1/'}}, {'flavor_text': 'Obviously prefers\\nhot places. When\\nit rains, steam\\x0cis said to spout\\nfrom the tip of\\nits tail.', 'language': {'name': 'en', 'url': 'https://pokeapi.co/api/v2/language/9/'}, 'version': {'name': 'blue', 'url': 'https://pokeapi.co/api/v2/version/2/'}}, {'flavor_text': 'The flame at the\\ntip of its tail\\nmakes a sound as\\x0cit burns. You can\\nonly hear it in\\nquiet places.', 'language': {'name': 'en', 'url': 'https://pokeapi.co/api/v2/language/9/'}, 'version': {'name': 'yellow', 'url': 'https://pokeapi.co/api/v2/version/3/'}}, {'flavor_text': 'The flame on its\\ntail shows the\\nstrength of its\\x0clife force. If it\\nis weak, the flame\\nalso burns weakly.', 'language': {'name': 'en', 'url': 'https://pokeapi.co/api/v2/language/9/'}, 'version': {'name': 'gold', 'url': 'https://pokeapi.co/api/v2/version/4/'}}, {'flavor_text': \"The flame on its\\ntail indicates\\nCHARMANDER's life\\x0cforce. If it is\\nhealthy, the flame\\nburns brightly.\", 'language': {'name': 'en', 'url': 'https://pokeapi.co/api/v2/language/9/'}, 'version': {'name': 'silver', 'url': 'https://pokeapi.co/api/v2/version/5/'}}, {'flavor_text': \"If it's healthy,\\nthe flame on the\\ntip of its tail\\x0cwill burn vigor\\xad\\nously, even if it\\ngets a bit wet.\", 'language': {'name': 'en', 'url': 'https://pokeapi.co/api/v2/language/9/'}, 'version': {'name': 'crystal', 'url': 'https://pokeapi.co/api/v2/version/6/'}}, {'flavor_text': 'The flame that burns at the tip of its\\ntail is an indication of its emotions.\\nThe flame wavers when CHARMANDER is\\x0cenjoying itself. If the POKéMON becomes\\nenraged, the flame burns fiercely.', 'language': {'name': 'en', 'url': 'https://pokeapi.co/api/v2/language/9/'}, 'version': {'name': 'ruby', 'url': 'https://pokeapi.co/api/v2/version/7/'}}, {'flavor_text': 'The flame that burns at the tip of its\\ntail is an indication of its emotions.\\nThe flame wavers when CHARMANDER is\\x0cenjoying itself. If the POKéMON becomes\\nenraged, the flame burns fiercely.', 'language': {'name': 'en', 'url': 'https://pokeapi.co/api/v2/language/9/'}, 'version': {'name': 'sapphire', 'url': 'https://pokeapi.co/api/v2/version/8/'}}, {'flavor_text': 'The flame that burns at the tip of its\\ntail is an indication of its emotions.\\nThe flame wavers when CHARMANDER is\\nhappy, and blazes when it is enraged.', 'language': {'name': 'en', 'url': 'https://pokeapi.co/api/v2/language/9/'}, 'version': {'name': 'emerald', 'url': 'https://pokeapi.co/api/v2/version/9/'}}, {'flavor_text': 'From the time it is born, a flame burns\\nat the tip of its tail. Its life would end\\nif the flame were to go out.', 'language': {'name': 'en', 'url': 'https://pokeapi.co/api/v2/language/9/'}, 'version': {'name': 'firered', 'url': 'https://pokeapi.co/api/v2/version/10/'}}, {'flavor_text': 'It has a preference for hot things.\\nWhen it rains, steam is said to spout from\\nthe tip of its tail.', 'language': {'name': 'en', 'url': 'https://pokeapi.co/api/v2/language/9/'}, 'version': {'name': 'leafgreen', 'url': 'https://pokeapi.co/api/v2/version/11/'}}, {'flavor_text': 'The fire on the tip of its tail is a\\nmeasure of its life. If healthy,\\nits tail burns intensely.', 'language': {'name': 'en', 'url': 'https://pokeapi.co/api/v2/language/9/'}, 'version': {'name': 'diamond', 'url': 'https://pokeapi.co/api/v2/version/12/'}}, {'flavor_text': 'The fire on the tip of its tail is a\\nmeasure of its life. If healthy,\\nits tail burns intensely.', 'language': {'name': 'en', 'url': 'https://pokeapi.co/api/v2/language/9/'}, 'version': {'name': 'pearl', 'url': 'https://pokeapi.co/api/v2/version/13/'}}, {'flavor_text': 'The fire on the tip of its tail is a\\nmeasure of its life. If healthy,\\nits tail burns intensely.', 'language': {'name': 'en', 'url': 'https://pokeapi.co/api/v2/language/9/'}, 'version': {'name': 'platinum', 'url': 'https://pokeapi.co/api/v2/version/14/'}}, {'flavor_text': 'The flame on its tail shows the\\nstrength of its life force. If it is weak,\\nthe flame also burns weakly.', 'language': {'name': 'en', 'url': 'https://pokeapi.co/api/v2/language/9/'}, 'version': {'name': 'heartgold', 'url': 'https://pokeapi.co/api/v2/version/15/'}}, {'flavor_text': 'The flame on its tail indicates\\nCHARMANDER’s life force. If it is\\nhealthy, the flame burns brightly.', 'language': {'name': 'en', 'url': 'https://pokeapi.co/api/v2/language/9/'}, 'version': {'name': 'soulsilver', 'url': 'https://pokeapi.co/api/v2/version/16/'}}, {'flavor_text': 'La flamme de sa queue symbolise sa\\nvitalité. Elle est intense quand il\\nest en bonne santé.', 'language': {'name': 'fr', 'url': 'https://pokeapi.co/api/v2/language/5/'}, 'version': {'name': 'black', 'url': 'https://pokeapi.co/api/v2/version/17/'}}, {'flavor_text': 'The fire on the tip of its tail is a\\nmeasure of its life. If healthy,\\nits tail burns intensely.', 'language': {'name': 'en', 'url': 'https://pokeapi.co/api/v2/language/9/'}, 'version': {'name': 'black', 'url': 'https://pokeapi.co/api/v2/version/17/'}}, {'flavor_text': 'La flamme de sa queue symbolise sa\\nvitalité. Elle est intense quand il\\nest en bonne santé.', 'language': {'name': 'fr', 'url': 'https://pokeapi.co/api/v2/language/5/'}, 'version': {'name': 'white', 'url': 'https://pokeapi.co/api/v2/version/18/'}}, {'flavor_text': 'The fire on the tip of its tail is a\\nmeasure of its life. If healthy,\\nits tail burns intensely.', 'language': {'name': 'en', 'url': 'https://pokeapi.co/api/v2/language/9/'}, 'version': {'name': 'white', 'url': 'https://pokeapi.co/api/v2/version/18/'}}, {'flavor_text': 'The fire on the tip of its tail is a\\nmeasure of its life. If healthy,\\nits tail burns intensely.', 'language': {'name': 'en', 'url': 'https://pokeapi.co/api/v2/language/9/'}, 'version': {'name': 'black-2', 'url': 'https://pokeapi.co/api/v2/version/21/'}}, {'flavor_text': 'The fire on the tip of its tail is a\\nmeasure of its life. If healthy,\\nits tail burns intensely.', 'language': {'name': 'en', 'url': 'https://pokeapi.co/api/v2/language/9/'}, 'version': {'name': 'white-2', 'url': 'https://pokeapi.co/api/v2/version/22/'}}, {'flavor_text': 'しっぽの\\u3000ほのおは\\u3000ヒトカゲの\\nせいめいりょくの\\u3000あかし。\\nげんきだと\\u3000さかんに\\u3000もえさかる。', 'language': {'name': 'ja-Hrkt', 'url': 'https://pokeapi.co/api/v2/language/1/'}, 'version': {'name': 'x', 'url': 'https://pokeapi.co/api/v2/version/23/'}}, {'flavor_text': '꼬리의 불꽃은 파이리의\\n생명력의 상징이다.\\n건강할 때 왕성하게 불타오른다.', 'language': {'name': 'ko', 'url': 'https://pokeapi.co/api/v2/language/3/'}, 'version': {'name': 'x', 'url': 'https://pokeapi.co/api/v2/version/23/'}}, {'flavor_text': 'La flamme sur sa queue représente l’énergie vitale\\nde Salamèche. Quand il est vigoureux, elle brûle plus\\nfort.', 'language': {'name': 'fr', 'url': 'https://pokeapi.co/api/v2/language/5/'}, 'version': {'name': 'x', 'url': 'https://pokeapi.co/api/v2/version/23/'}}, {'flavor_text': 'Die Flamme auf seiner Schweifspitze zeigt die\\nLebensenergie an. Ist es gesund, leuchtet sie hell.', 'language': {'name': 'de', 'url': 'https://pokeapi.co/api/v2/language/6/'}, 'version': {'name': 'x', 'url': 'https://pokeapi.co/api/v2/version/23/'}}, {'flavor_text': 'La llama de su cola indica la fuerza vital de\\nCharmander. Será brillante si está sano.', 'language': {'name': 'es', 'url': 'https://pokeapi.co/api/v2/language/7/'}, 'version': {'name': 'x', 'url': 'https://pokeapi.co/api/v2/version/23/'}}, {'flavor_text': 'La fiamma che Charmander ha sulla coda indica la\\nsua forza vitale. Se è in forma, la fiamma è vivace.', 'language': {'name': 'it', 'url': 'https://pokeapi.co/api/v2/language/8/'}, 'version': {'name': 'x', 'url': 'https://pokeapi.co/api/v2/version/23/'}}, {'flavor_text': 'The flame on its tail indicates Charmander’s life\\nforce. If it is healthy, the flame burns brightly.', 'language': {'name': 'en', 'url': 'https://pokeapi.co/api/v2/language/9/'}, 'version': {'name': 'x', 'url': 'https://pokeapi.co/api/v2/version/23/'}}, {'flavor_text': '尻尾の\\u3000炎は\\nヒトカゲの\\u3000生命力の\\u3000証。\\n元気だと\\u3000さかんに\\u3000燃えさかる。', 'language': {'name': 'ja', 'url': 'https://pokeapi.co/api/v2/language/11/'}, 'version': {'name': 'x', 'url': 'https://pokeapi.co/api/v2/version/23/'}}, {'flavor_text': 'うまれたときから\\u3000しっぽに\\u3000ほのおが\\nともっている。ほのおが\\u3000きえたとき\\nその\\u3000いのちは\\u3000おわって\\u3000しまう。', 'language': {'name': 'ja-Hrkt', 'url': 'https://pokeapi.co/api/v2/language/1/'}, 'version': {'name': 'y', 'url': 'https://pokeapi.co/api/v2/version/24/'}}, {'flavor_text': '태어날 때부터 꼬리의 불꽃이\\n타오르고 있다. 불꽃이 꺼지면\\n그 생명이 다하고 만다.', 'language': {'name': 'ko', 'url': 'https://pokeapi.co/api/v2/language/3/'}, 'version': {'name': 'y', 'url': 'https://pokeapi.co/api/v2/version/24/'}}, {'flavor_text': 'Depuis sa naissance, une petite flamme brûle au bout\\nde sa queue. Si cette flamme s’éteint, la vie de ce\\nPokémon s’éteindra elle aussi.', 'language': {'name': 'fr', 'url': 'https://pokeapi.co/api/v2/language/5/'}, 'version': {'name': 'y', 'url': 'https://pokeapi.co/api/v2/version/24/'}}, {'flavor_text': 'Von Geburt an brennt die Flamme auf seiner\\nSchwanzspitze. Sobald sie erlischt, erlischt auch\\nsein Lebenslicht.', 'language': {'name': 'de', 'url': 'https://pokeapi.co/api/v2/language/6/'}, 'version': {'name': 'y', 'url': 'https://pokeapi.co/api/v2/version/24/'}}, {'flavor_text': 'Este Pokémon nace con una llama en la punta de la\\ncola. Si la llama se apagara, el Pokémon se debilitaría.', 'language': {'name': 'es', 'url': 'https://pokeapi.co/api/v2/language/7/'}, 'version': {'name': 'y', 'url': 'https://pokeapi.co/api/v2/version/24/'}}, {'flavor_text': 'Dalla nascita una fiamma gli arde sulla punta della\\ncoda. Se si spegnesse, per lui sarebbe la fine.', 'language': {'name': 'it', 'url': 'https://pokeapi.co/api/v2/language/8/'}, 'version': {'name': 'y', 'url': 'https://pokeapi.co/api/v2/version/24/'}}, {'flavor_text': 'From the time it is born, a flame burns at the tip of\\nits tail. Its life would end if the flame were to\\ngo out.', 'language': {'name': 'en', 'url': 'https://pokeapi.co/api/v2/language/9/'}, 'version': {'name': 'y', 'url': 'https://pokeapi.co/api/v2/version/24/'}}, {'flavor_text': '生まれたときから\\u3000尻尾に\\u3000炎が\\n点っている。炎が\\u3000消えたとき\\nその\\u3000命は\\u3000終わってしまう。', 'language': {'name': 'ja', 'url': 'https://pokeapi.co/api/v2/language/11/'}, 'version': {'name': 'y', 'url': 'https://pokeapi.co/api/v2/version/24/'}}, {'flavor_text': 'しっぽの\\u3000ほのおは\\u3000きぶんを\\u3000ひょうげん。\\nたのしい\\u3000ときには\\u3000ゆらゆら\\u3000ほのおが\\u3000ゆれて\\nおこった\\u3000ときには\\u3000めらめら\\u3000さかんに\\u3000もえる。', 'language': {'name': 'ja-Hrkt', 'url': 'https://pokeapi.co/api/v2/language/1/'}, 'version': {'name': 'omega-ruby', 'url': 'https://pokeapi.co/api/v2/version/25/'}}, {'flavor_text': '꼬리의 불꽃은 기분을 표현한다.\\n즐거울 때는 흔들흔들 불꽃이 흔들리고\\n화가 났을 때는 활활 맹렬히 불타오른다.', 'language': {'name': 'ko', 'url': 'https://pokeapi.co/api/v2/language/3/'}, 'version': {'name': 'omega-ruby', 'url': 'https://pokeapi.co/api/v2/version/25/'}}, {'flavor_text': 'La flamme qui brûle au bout de sa queue indique l’humeur\\nde ce Pokémon. Elle vacille lorsque Salamèche est content.\\nEn revanche, lorsqu’il s’énerve, la flamme prend\\nde l’importance et brûle plus ardemment.', 'language': {'name': 'fr', 'url': 'https://pokeapi.co/api/v2/language/5/'}, 'version': {'name': 'omega-ruby', 'url': 'https://pokeapi.co/api/v2/version/25/'}}, {'flavor_text': 'Die Flamme auf seiner Schweifspitze zeigt seine\\nGefühlslage an. Sie flackert, wenn Glumanda\\nzufrieden ist. Wenn dieses Pokémon wütend wird,\\nlodert die Flamme gewaltig.', 'language': {'name': 'de', 'url': 'https://pokeapi.co/api/v2/language/6/'}, 'version': {'name': 'omega-ruby', 'url': 'https://pokeapi.co/api/v2/version/25/'}}, {'flavor_text': 'La llama que tiene en la punta de la cola arde según sus\\nsentimientos. Llamea levemente cuando está alegre y arde\\nvigorosamente cuando está enfadado.', 'language': {'name': 'es', 'url': 'https://pokeapi.co/api/v2/language/7/'}, 'version': {'name': 'omega-ruby', 'url': 'https://pokeapi.co/api/v2/version/25/'}}, {'flavor_text': 'La fiamma sulla punta della coda indica il suo stato emotivo.\\nSe la fiamma ondeggia significa che Charmander si sta\\ndivertendo. Quando il Pokémon si infuria, la fiamma arde\\nviolentemente.', 'language': {'name': 'it', 'url': 'https://pokeapi.co/api/v2/language/8/'}, 'version': {'name': 'omega-ruby', 'url': 'https://pokeapi.co/api/v2/version/25/'}}, {'flavor_text': 'The flame that burns at the tip of its tail is an indication\\nof its emotions. The flame wavers when Charmander\\nis enjoying itself. If the Pokémon becomes enraged,\\nthe flame burns fiercely.', 'language': {'name': 'en', 'url': 'https://pokeapi.co/api/v2/language/9/'}, 'version': {'name': 'omega-ruby', 'url': 'https://pokeapi.co/api/v2/version/25/'}}, {'flavor_text': '尻尾の\\u3000炎は\\u3000気分を\\u3000表現。\\n楽しい\\u3000ときには\\u3000ゆらゆら\\u3000炎が\\u3000ゆれて\\n怒った\\u3000ときには\\u3000めらめら\\u3000盛んに\\u3000燃える。', 'language': {'name': 'ja', 'url': 'https://pokeapi.co/api/v2/language/11/'}, 'version': {'name': 'omega-ruby', 'url': 'https://pokeapi.co/api/v2/version/25/'}}, {'flavor_text': 'しっぽの\\u3000ほのおは\\u3000きぶんを\\u3000ひょうげん。\\nたのしい\\u3000ときには\\u3000ゆらゆら\\u3000ほのおが\\u3000ゆれて\\nおこった\\u3000ときには\\u3000めらめら\\u3000さかんに\\u3000もえる。', 'language': {'name': 'ja-Hrkt', 'url': 'https://pokeapi.co/api/v2/language/1/'}, 'version': {'name': 'alpha-sapphire', 'url': 'https://pokeapi.co/api/v2/version/26/'}}, {'flavor_text': '꼬리의 불꽃은 기분을 표현한다.\\n즐거울 때는 흔들흔들 불꽃이 흔들리고\\n화가 났을 때는 활활 맹렬히 불타오른다.', 'language': {'name': 'ko', 'url': 'https://pokeapi.co/api/v2/language/3/'}, 'version': {'name': 'alpha-sapphire', 'url': 'https://pokeapi.co/api/v2/version/26/'}}, {'flavor_text': 'La flamme qui brûle au bout de sa queue indique l’humeur\\nde ce Pokémon. Elle vacille lorsque Salamèche est content.\\nEn revanche, lorsqu’il s’énerve, la flamme prend\\nde l’importance et brûle plus ardemment.', 'language': {'name': 'fr', 'url': 'https://pokeapi.co/api/v2/language/5/'}, 'version': {'name': 'alpha-sapphire', 'url': 'https://pokeapi.co/api/v2/version/26/'}}, {'flavor_text': 'Die Flamme auf seiner Schweifspitze zeigt seine\\nGefühlslage an. Sie flackert, wenn Glumanda\\nzufrieden ist. Wenn dieses Pokémon wütend wird,\\nlodert die Flamme sehr stark.', 'language': {'name': 'de', 'url': 'https://pokeapi.co/api/v2/language/6/'}, 'version': {'name': 'alpha-sapphire', 'url': 'https://pokeapi.co/api/v2/version/26/'}}, {'flavor_text': 'La llama que tiene en la punta de la cola arde según sus\\nsentimientos. Llamea levemente cuando está alegre y arde\\nvigorosamente cuando está enfadado.', 'language': {'name': 'es', 'url': 'https://pokeapi.co/api/v2/language/7/'}, 'version': {'name': 'alpha-sapphire', 'url': 'https://pokeapi.co/api/v2/version/26/'}}, {'flavor_text': 'La fiamma sulla punta della coda indica il suo stato emotivo.\\nSe la fiamma ondeggia significa che Charmander si sta\\ndivertendo. Quando il Pokémon si infuria, la fiamma arde\\nviolentemente.', 'language': {'name': 'it', 'url': 'https://pokeapi.co/api/v2/language/8/'}, 'version': {'name': 'alpha-sapphire', 'url': 'https://pokeapi.co/api/v2/version/26/'}}, {'flavor_text': 'The flame that burns at the tip of its tail is an indication\\nof its emotions. The flame wavers when Charmander\\nis enjoying itself. If the Pokémon becomes enraged,\\nthe flame burns fiercely.', 'language': {'name': 'en', 'url': 'https://pokeapi.co/api/v2/language/9/'}, 'version': {'name': 'alpha-sapphire', 'url': 'https://pokeapi.co/api/v2/version/26/'}}, {'flavor_text': '尻尾の\\u3000炎は\\u3000気分を\\u3000表現。\\n楽しい\\u3000ときには\\u3000ゆらゆら\\u3000炎が\\u3000ゆれて\\n怒った\\u3000ときには\\u3000めらめら\\u3000盛んに\\u3000燃える。', 'language': {'name': 'ja', 'url': 'https://pokeapi.co/api/v2/language/11/'}, 'version': {'name': 'alpha-sapphire', 'url': 'https://pokeapi.co/api/v2/version/26/'}}, {'flavor_text': 'しずかな\\u3000ところに\\u3000つれていくと\\nシッポが\\u3000もえてる\\u3000ちいさな\\u3000おとが\\nきこえてくるよ。', 'language': {'name': 'ja-Hrkt', 'url': 'https://pokeapi.co/api/v2/language/1/'}, 'version': {'name': 'lets-go-pikachu', 'url': 'https://pokeapi.co/api/v2/version/31/'}}, {'flavor_text': '조용한 곳에 데려가면\\n꼬리가 타고 있는\\n작은 소리가 들린다.', 'language': {'name': 'ko', 'url': 'https://pokeapi.co/api/v2/language/3/'}, 'version': {'name': 'lets-go-pikachu', 'url': 'https://pokeapi.co/api/v2/version/31/'}}, {'flavor_text': '要是把牠帶到安靜的地方，\\n就能聽見牠的尾巴燃燒時\\n發出的微小聲音。', 'language': {'name': 'zh-Hant', 'url': 'https://pokeapi.co/api/v2/language/4/'}, 'version': {'name': 'lets-go-pikachu', 'url': 'https://pokeapi.co/api/v2/version/31/'}}, {'flavor_text': 'La flammèche au bout de sa queue émet\\nun crépitement audible seulement dans\\nles endroits calmes.', 'language': {'name': 'fr', 'url': 'https://pokeapi.co/api/v2/language/5/'}, 'version': {'name': 'lets-go-pikachu', 'url': 'https://pokeapi.co/api/v2/version/31/'}}, {'flavor_text': 'An sehr stillen Orten kann man seine brennende\\nSchwanzspitze ganz leise lodern hören.', 'language': {'name': 'de', 'url': 'https://pokeapi.co/api/v2/language/6/'}, 'version': {'name': 'lets-go-pikachu', 'url': 'https://pokeapi.co/api/v2/version/31/'}}, {'flavor_text': 'En lugares silenciosos se puede oír el débil\\nchisporroteo de la llama que le arde en la\\npunta de la cola.', 'language': {'name': 'es', 'url': 'https://pokeapi.co/api/v2/language/7/'}, 'version': {'name': 'lets-go-pikachu', 'url': 'https://pokeapi.co/api/v2/version/31/'}}, {'flavor_text': 'Nel silenzio più assoluto si può udire la fiamma\\nin cima alla sua coda scoppiettare bruciando.', 'language': {'name': 'it', 'url': 'https://pokeapi.co/api/v2/language/8/'}, 'version': {'name': 'lets-go-pikachu', 'url': 'https://pokeapi.co/api/v2/version/31/'}}, {'flavor_text': 'The flame at the tip of its tail makes a sound as\\nit burns. You can only hear it in quiet places.', 'language': {'name': 'en', 'url': 'https://pokeapi.co/api/v2/language/9/'}, 'version': {'name': 'lets-go-pikachu', 'url': 'https://pokeapi.co/api/v2/version/31/'}}, {'flavor_text': '静かな\\u3000ところに\\u3000連れていくと\\nシッポが\\u3000燃えてる\\u3000小さな\\u3000音が\\n聞こえてくるよ。', 'language': {'name': 'ja', 'url': 'https://pokeapi.co/api/v2/language/11/'}, 'version': {'name': 'lets-go-pikachu', 'url': 'https://pokeapi.co/api/v2/version/31/'}}, {'flavor_text': '要是把它带到安静的地方，\\n就能听到它的尾巴燃烧时\\n发出的微小的声音。', 'language': {'name': 'zh-Hans', 'url': 'https://pokeapi.co/api/v2/language/12/'}, 'version': {'name': 'lets-go-pikachu', 'url': 'https://pokeapi.co/api/v2/version/31/'}}, {'flavor_text': 'しずかな\\u3000ところに\\u3000つれていくと\\nシッポが\\u3000もえてる\\u3000ちいさな\\u3000おとが\\nきこえてくるよ。', 'language': {'name': 'ja-Hrkt', 'url': 'https://pokeapi.co/api/v2/language/1/'}, 'version': {'name': 'lets-go-eevee', 'url': 'https://pokeapi.co/api/v2/version/32/'}}, {'flavor_text': '조용한 곳에 데려가면\\n꼬리가 타고 있는\\n작은 소리가 들린다.', 'language': {'name': 'ko', 'url': 'https://pokeapi.co/api/v2/language/3/'}, 'version': {'name': 'lets-go-eevee', 'url': 'https://pokeapi.co/api/v2/version/32/'}}, {'flavor_text': '要是把牠帶到安靜的地方，\\n就能聽見牠的尾巴燃燒時\\n發出的微小聲音。', 'language': {'name': 'zh-Hant', 'url': 'https://pokeapi.co/api/v2/language/4/'}, 'version': {'name': 'lets-go-eevee', 'url': 'https://pokeapi.co/api/v2/version/32/'}}, {'flavor_text': 'La flammèche au bout de sa queue émet\\nun crépitement audible seulement dans\\nles endroits calmes.', 'language': {'name': 'fr', 'url': 'https://pokeapi.co/api/v2/language/5/'}, 'version': {'name': 'lets-go-eevee', 'url': 'https://pokeapi.co/api/v2/version/32/'}}, {'flavor_text': 'An sehr stillen Orten kann man seine brennende\\nSchwanzspitze ganz leise lodern hören.', 'language': {'name': 'de', 'url': 'https://pokeapi.co/api/v2/language/6/'}, 'version': {'name': 'lets-go-eevee', 'url': 'https://pokeapi.co/api/v2/version/32/'}}, {'flavor_text': 'En lugares silenciosos se puede oír el débil\\nchisporroteo de la llama que le arde en la\\npunta de la cola.', 'language': {'name': 'es', 'url': 'https://pokeapi.co/api/v2/language/7/'}, 'version': {'name': 'lets-go-eevee', 'url': 'https://pokeapi.co/api/v2/version/32/'}}, {'flavor_text': 'Nel silenzio più assoluto si può udire la fiamma\\nin cima alla sua coda scoppiettare bruciando.', 'language': {'name': 'it', 'url': 'https://pokeapi.co/api/v2/language/8/'}, 'version': {'name': 'lets-go-eevee', 'url': 'https://pokeapi.co/api/v2/version/32/'}}, {'flavor_text': 'The flame at the tip of its tail makes a sound as\\nit burns. You can only hear it in quiet places.', 'language': {'name': 'en', 'url': 'https://pokeapi.co/api/v2/language/9/'}, 'version': {'name': 'lets-go-eevee', 'url': 'https://pokeapi.co/api/v2/version/32/'}}, {'flavor_text': '静かな\\u3000ところに\\u3000連れていくと\\nシッポが\\u3000燃えてる\\u3000小さな\\u3000音が\\n聞こえてくるよ。', 'language': {'name': 'ja', 'url': 'https://pokeapi.co/api/v2/language/11/'}, 'version': {'name': 'lets-go-eevee', 'url': 'https://pokeapi.co/api/v2/version/32/'}}, {'flavor_text': '要是把它带到安静的地方，\\n就能听到它的尾巴燃烧时\\n发出的微小的声音。', 'language': {'name': 'zh-Hans', 'url': 'https://pokeapi.co/api/v2/language/12/'}, 'version': {'name': 'lets-go-eevee', 'url': 'https://pokeapi.co/api/v2/version/32/'}}, {'flavor_text': 'あついものを\\u3000このむ\\u3000せいかく。\\nあめにぬれると\\u3000しっぽの\\u3000さきから\\nけむりが\\u3000でるという。', 'language': {'name': 'ja-Hrkt', 'url': 'https://pokeapi.co/api/v2/language/1/'}, 'version': {'name': 'sword', 'url': 'https://pokeapi.co/api/v2/version/33/'}}, {'flavor_text': '뜨거운 것을 좋아하는 성격이다.\\n비에 젖으면 꼬리 끝에서\\n연기가 난다고 한다.', 'language': {'name': 'ko', 'url': 'https://pokeapi.co/api/v2/language/3/'}, 'version': {'name': 'sword', 'url': 'https://pokeapi.co/api/v2/version/33/'}}, {'flavor_text': '天生喜歡熱熱的東西。\\n據說當牠被雨淋濕的時候，\\n尾巴的末端會冒出煙來。', 'language': {'name': 'zh-Hant', 'url': 'https://pokeapi.co/api/v2/language/4/'}, 'version': {'name': 'sword', 'url': 'https://pokeapi.co/api/v2/version/33/'}}, {'flavor_text': 'Il préfère ce qui est chaud.\\nEn cas de pluie, de la vapeur se forme autour\\nde sa queue.', 'language': {'name': 'fr', 'url': 'https://pokeapi.co/api/v2/language/5/'}, 'version': {'name': 'sword', 'url': 'https://pokeapi.co/api/v2/version/33/'}}, {'flavor_text': 'Dieses Pokémon bevorzugt heiße Dinge.\\nBei Regen soll seine Schwanzspitze dampfen.', 'language': {'name': 'de', 'url': 'https://pokeapi.co/api/v2/language/6/'}, 'version': {'name': 'sword', 'url': 'https://pokeapi.co/api/v2/version/33/'}}, {'flavor_text': 'Prefiere las cosas calientes. Dicen que cuando\\nllueve le sale vapor de la punta de la cola.', 'language': {'name': 'es', 'url': 'https://pokeapi.co/api/v2/language/7/'}, 'version': {'name': 'sword', 'url': 'https://pokeapi.co/api/v2/version/33/'}}, {'flavor_text': 'Ama le cose calde. Si dice che quando piove\\ngli esca vapore dalla punta della coda.', 'language': {'name': 'it', 'url': 'https://pokeapi.co/api/v2/language/8/'}, 'version': {'name': 'sword', 'url': 'https://pokeapi.co/api/v2/version/33/'}}, {'flavor_text': 'It has a preference for hot things. When it rains,\\nsteam is said to spout from the tip of its tail.', 'language': {'name': 'en', 'url': 'https://pokeapi.co/api/v2/language/9/'}, 'version': {'name': 'sword', 'url': 'https://pokeapi.co/api/v2/version/33/'}}, {'flavor_text': '熱いものを\\u3000好む\\u3000性格。\\n雨に濡れると\\u3000しっぽの\\u3000先から\\n煙が\\u3000出るという。', 'language': {'name': 'ja', 'url': 'https://pokeapi.co/api/v2/language/11/'}, 'version': {'name': 'sword', 'url': 'https://pokeapi.co/api/v2/version/33/'}}, {'flavor_text': '天生喜欢热热的东西。\\n据说当它被雨淋湿的时候，\\n尾巴的末端会冒出烟来。', 'language': {'name': 'zh-Hans', 'url': 'https://pokeapi.co/api/v2/language/12/'}, 'version': {'name': 'sword', 'url': 'https://pokeapi.co/api/v2/version/33/'}}, {'flavor_text': 'うまれたときから\\u3000しっぽに\\u3000ほのおが\\nともっている。\\u3000ほのおが\\u3000きえたとき\\nその\\u3000いのちは\\u3000おわって\\u3000しまう。', 'language': {'name': 'ja-Hrkt', 'url': 'https://pokeapi.co/api/v2/language/1/'}, 'version': {'name': 'shield', 'url': 'https://pokeapi.co/api/v2/version/34/'}}, {'flavor_text': '태어날 때부터 꼬리에 불꽃이\\n타오르고 있다. 불꽃이 꺼지면\\n생명도 다하고 만다.', 'language': {'name': 'ko', 'url': 'https://pokeapi.co/api/v2/language/3/'}, 'version': {'name': 'shield', 'url': 'https://pokeapi.co/api/v2/version/34/'}}, {'flavor_text': '從出生時開始尾巴上\\n就有火焰在燃燒。\\n火焰熄滅時，生命也會結束。', 'language': {'name': 'zh-Hant', 'url': 'https://pokeapi.co/api/v2/language/4/'}, 'version': {'name': 'shield', 'url': 'https://pokeapi.co/api/v2/version/34/'}}, {'flavor_text': 'Depuis sa naissance, une petite flamme brûle\\nau bout de sa queue. Si cette flamme s’éteint,\\nla vie de ce Pokémon s’éteindra elle aussi.', 'language': {'name': 'fr', 'url': 'https://pokeapi.co/api/v2/language/5/'}, 'version': {'name': 'shield', 'url': 'https://pokeapi.co/api/v2/version/34/'}}, {'flavor_text': 'Von Geburt an brennt die Flamme auf seiner\\nSchwanzspitze. Sobald sie verglimmt, erlischt\\nauch sein Lebenslicht.', 'language': {'name': 'de', 'url': 'https://pokeapi.co/api/v2/language/6/'}, 'version': {'name': 'shield', 'url': 'https://pokeapi.co/api/v2/version/34/'}}, {'flavor_text': 'Este Pokémon nace con una llama en la punta de\\nla cola. Si se le apagara, fallecería.', 'language': {'name': 'es', 'url': 'https://pokeapi.co/api/v2/language/7/'}, 'version': {'name': 'shield', 'url': 'https://pokeapi.co/api/v2/version/34/'}}, {'flavor_text': 'Una fiamma gli arde sulla punta della coda\\nfin dalla nascita. Se si spegnesse, per lui\\nsarebbe la fine.', 'language': {'name': 'it', 'url': 'https://pokeapi.co/api/v2/language/8/'}, 'version': {'name': 'shield', 'url': 'https://pokeapi.co/api/v2/version/34/'}}, {'flavor_text': 'From the time it is born, a flame burns at the tip\\nof its tail. Its life would end if the flame were to\\ngo out.', 'language': {'name': 'en', 'url': 'https://pokeapi.co/api/v2/language/9/'}, 'version': {'name': 'shield', 'url': 'https://pokeapi.co/api/v2/version/34/'}}, {'flavor_text': '生まれたときから\\u3000しっぽに\\u3000炎が\\nともっている。\\u3000炎が\\u3000消えたとき\\nその\\u3000命は\\u3000終わって\\u3000しまう。', 'language': {'name': 'ja', 'url': 'https://pokeapi.co/api/v2/language/11/'}, 'version': {'name': 'shield', 'url': 'https://pokeapi.co/api/v2/version/34/'}}, {'flavor_text': '生下来的时候，\\n尾巴上就有火焰在燃烧。\\n火焰熄灭时，它的生命也会结束。', 'language': {'name': 'zh-Hans', 'url': 'https://pokeapi.co/api/v2/language/12/'}, 'version': {'name': 'shield', 'url': 'https://pokeapi.co/api/v2/version/34/'}}], 'form_descriptions': [], 'forms_switchable': False, 'gender_rate': 1, 'genera': [{'genus': 'とかげポケモン', 'language': {'name': 'ja-Hrkt', 'url': 'https://pokeapi.co/api/v2/language/1/'}}, {'genus': '도롱뇽포켓몬', 'language': {'name': 'ko', 'url': 'https://pokeapi.co/api/v2/language/3/'}}, {'genus': '蜥蜴寶可夢', 'language': {'name': 'zh-Hant', 'url': 'https://pokeapi.co/api/v2/language/4/'}}, {'genus': 'Pokémon Lézard', 'language': {'name': 'fr', 'url': 'https://pokeapi.co/api/v2/language/5/'}}, {'genus': 'Echsen-Pokémon', 'language': {'name': 'de', 'url': 'https://pokeapi.co/api/v2/language/6/'}}, {'genus': 'Pokémon Lagartija', 'language': {'name': 'es', 'url': 'https://pokeapi.co/api/v2/language/7/'}}, {'genus': 'Pokémon Lucertola', 'language': {'name': 'it', 'url': 'https://pokeapi.co/api/v2/language/8/'}}, {'genus': 'Lizard Pokémon', 'language': {'name': 'en', 'url': 'https://pokeapi.co/api/v2/language/9/'}}, {'genus': 'とかげポケモン', 'language': {'name': 'ja', 'url': 'https://pokeapi.co/api/v2/language/11/'}}, {'genus': '蜥蜴宝可梦', 'language': {'name': 'zh-Hans', 'url': 'https://pokeapi.co/api/v2/language/12/'}}], 'generation': {'name': 'generation-i', 'url': 'https://pokeapi.co/api/v2/generation/1/'}, 'growth_rate': {'name': 'medium-slow', 'url': 'https://pokeapi.co/api/v2/growth-rate/4/'}, 'habitat': {'name': 'mountain', 'url': 'https://pokeapi.co/api/v2/pokemon-habitat/4/'}, 'has_gender_differences': False, 'hatch_counter': 20, 'id': 4, 'is_baby': False, 'is_legendary': False, 'is_mythical': False, 'name': 'charmander', 'names': [{'language': {'name': 'ja-Hrkt', 'url': 'https://pokeapi.co/api/v2/language/1/'}, 'name': 'ヒトカゲ'}, {'language': {'name': 'roomaji', 'url': 'https://pokeapi.co/api/v2/language/2/'}, 'name': 'Hitokage'}, {'language': {'name': 'ko', 'url': 'https://pokeapi.co/api/v2/language/3/'}, 'name': '파이리'}, {'language': {'name': 'zh-Hant', 'url': 'https://pokeapi.co/api/v2/language/4/'}, 'name': '小火龍'}, {'language': {'name': 'fr', 'url': 'https://pokeapi.co/api/v2/language/5/'}, 'name': 'Salamèche'}, {'language': {'name': 'de', 'url': 'https://pokeapi.co/api/v2/language/6/'}, 'name': 'Glumanda'}, {'language': {'name': 'es', 'url': 'https://pokeapi.co/api/v2/language/7/'}, 'name': 'Charmander'}, {'language': {'name': 'it', 'url': 'https://pokeapi.co/api/v2/language/8/'}, 'name': 'Charmander'}, {'language': {'name': 'en', 'url': 'https://pokeapi.co/api/v2/language/9/'}, 'name': 'Charmander'}, {'language': {'name': 'ja', 'url': 'https://pokeapi.co/api/v2/language/11/'}, 'name': 'ヒトカゲ'}, {'language': {'name': 'zh-Hans', 'url': 'https://pokeapi.co/api/v2/language/12/'}, 'name': '小火龙'}], 'order': 4, 'pal_park_encounters': [{'area': {'name': 'field', 'url': 'https://pokeapi.co/api/v2/pal-park-area/2/'}, 'base_score': 50, 'rate': 30}], 'pokedex_numbers': [{'entry_number': 4, 'pokedex': {'name': 'national', 'url': 'https://pokeapi.co/api/v2/pokedex/1/'}}, {'entry_number': 4, 'pokedex': {'name': 'kanto', 'url': 'https://pokeapi.co/api/v2/pokedex/2/'}}, {'entry_number': 229, 'pokedex': {'name': 'original-johto', 'url': 'https://pokeapi.co/api/v2/pokedex/3/'}}, {'entry_number': 234, 'pokedex': {'name': 'updated-johto', 'url': 'https://pokeapi.co/api/v2/pokedex/7/'}}, {'entry_number': 109, 'pokedex': {'name': 'conquest-gallery', 'url': 'https://pokeapi.co/api/v2/pokedex/11/'}}, {'entry_number': 83, 'pokedex': {'name': 'kalos-central', 'url': 'https://pokeapi.co/api/v2/pokedex/12/'}}, {'entry_number': 4, 'pokedex': {'name': 'letsgo-kanto', 'url': 'https://pokeapi.co/api/v2/pokedex/26/'}}, {'entry_number': 378, 'pokedex': {'name': 'galar', 'url': 'https://pokeapi.co/api/v2/pokedex/27/'}}, {'entry_number': 167, 'pokedex': {'name': 'blueberry', 'url': 'https://pokeapi.co/api/v2/pokedex/33/'}}], 'shape': {'name': 'upright', 'url': 'https://pokeapi.co/api/v2/pokemon-shape/6/'}, 'varieties': [{'is_default': True, 'pokemon': {'name': 'charmander', 'url': 'https://pokeapi.co/api/v2/pokemon/4/'}}]}\n"
          ]
        }
      ],
      "source": [
        "# Definimos la URL de la API pública (JSONPlaceholder)\n",
        "url = \"https://pokeapi.co/api/v2/pokemon-species/charmander/\"\n",
        "\n",
        "# Hacemos la solicitud GET a la API\n",
        "response = requests.get(url)\n",
        "\n",
        "# Verificamos si la solicitud fue exitosa\n",
        "if response.status_code == 200:\n",
        "    data = response.json()\n",
        "    print(data)\n",
        "else:\n",
        "    print(f\"Error al obtener datos: {response.status_code}\")\n"
      ]
    },
    {
      "cell_type": "markdown",
      "source": [
        "## ¿Qué son las APIs GET y POST?\n",
        "\n",
        "Las APIs son como los mensajeros que permiten que diferentes aplicaciones o servicios se comuniquen entre sí. Cuando una aplicación necesita información de otro servicio, puede hacerlo de dos formas principales: usando un **GET** o un **POST**.\n",
        "\n",
        "### 1. **API GET**: Obtener información\n",
        "Imagina que entras a una tienda y le pides a un empleado que te dé información sobre un producto (por ejemplo, el precio, la descripción, etc.). Esto es similar a lo que hace una solicitud **GET**: pedir información sin cambiar nada.\n",
        "\n",
        "**Caso de uso real**: Usamos **GET** cuando queremos obtener información de un servidor. Por ejemplo, cuando abres una página web, tu navegador hace una solicitud **GET** para obtener el contenido de la página.\n",
        "\n",
        "### 2. **API POST**: Enviar información\n",
        "Ahora imagina que, en lugar de pedir información, decides llenar un formulario con tus datos (nombre, dirección, etc.) y entregarlo al empleado para que los registre. Esto es lo que hace una solicitud **POST**: enviar información a un servidor para que la procese o almacene.\n",
        "\n",
        "**Caso de uso real**: Usamos **POST** cuando queremos enviar datos. Por ejemplo, cuando te registras en una página web, esa página usa **POST** para enviar tus datos (como nombre y correo) al servidor.\n",
        "\n",
        "### Resumen:\n",
        "- **GET**: Solicita información sin cambiar nada (solo leer).\n",
        "- **POST**: Envía datos al servidor para que los procese o almacene (crear o actualizar información).\n",
        "\n",
        "Ambos métodos son fundamentales para el funcionamiento de muchas aplicaciones y servicios en línea que usamos todos los días.\n"
      ],
      "metadata": {
        "id": "QznACXKIlCmC"
      }
    },
    {
      "cell_type": "code",
      "source": [
        "# Ejemplo de solicitud GET a la API pública (JSONPlaceholder)\n",
        "# Obtener información de los usuarios\n",
        "url_get = 'https://jsonplaceholder.typicode.com/users'\n",
        "response_get = requests.get(url_get)\n",
        "\n",
        "if response_get.status_code == 200:\n",
        "    users = response_get.json()\n",
        "    print(\"Lista de usuarios (GET):\")\n",
        "    for user in users[:3]:  # Mostrar solo los primeros 3 usuarios\n",
        "        print(f\"Nombre: {user['name']}, Correo: {user['email']}\")\n",
        "else:\n",
        "    print(f\"Error al obtener datos (GET): {response_get.status_code}\")"
      ],
      "metadata": {
        "colab": {
          "base_uri": "https://localhost:8080/"
        },
        "id": "ZFC2E830lNwi",
        "outputId": "9a68a60e-7ab0-44ca-e31e-f672edf2beb1"
      },
      "execution_count": 4,
      "outputs": [
        {
          "output_type": "stream",
          "name": "stdout",
          "text": [
            "Lista de usuarios (GET):\n",
            "Nombre: Leanne Graham, Correo: Sincere@april.biz\n",
            "Nombre: Ervin Howell, Correo: Shanna@melissa.tv\n",
            "Nombre: Clementine Bauch, Correo: Nathan@yesenia.net\n"
          ]
        }
      ]
    },
    {
      "cell_type": "code",
      "source": [
        "# URL de la API pública que recibe solicitudes POST\n",
        "url = \"https://httpbin.org/post\"\n",
        "\n",
        "# Datos que enviaremos en la solicitud POST\n",
        "datos = {\n",
        "    \"nombre\": input(\"Escribe tu nombre: \"),\n",
        "    \"edad\": input(\"Escribe tu edad: \"),\n",
        "    \"fan_de_gatos\": True,\n",
        "    \"mensaje\": \"¡Amo los gatos! 😻\"\n",
        "}\n",
        "\n",
        "# Enviamos la solicitud POST\n",
        "respuesta = requests.post(url, json=datos)\n",
        "\n",
        "# Mostramos la respuesta del servidor\n",
        "if respuesta.status_code == 200:\n",
        "    print(\"\\n¡Registro exitoso en el club de fans de los gatos! 🎉\")\n",
        "    print(\"Aquí está la confirmación de la API:\\n\")\n",
        "    print(respuesta.json())  # La API devuelve lo que enviamos\n",
        "else:\n",
        "    print(\"\\n¡Algo salió mal! 😿 Intenta de nuevo.\")"
      ],
      "metadata": {
        "colab": {
          "base_uri": "https://localhost:8080/"
        },
        "id": "jl-vs4ttmPCi",
        "outputId": "5adb5183-dce0-42cf-a7df-b52e47164e4c"
      },
      "execution_count": 5,
      "outputs": [
        {
          "output_type": "stream",
          "name": "stdout",
          "text": [
            "Escribe tu nombre: Andres\n",
            "Escribe tu edad: 18\n",
            "\n",
            "¡Registro exitoso en el club de fans de los gatos! 🎉\n",
            "Aquí está la confirmación de la API:\n",
            "\n",
            "{'args': {}, 'data': '{\"nombre\": \"Andres\", \"edad\": \"18\", \"fan_de_gatos\": true, \"mensaje\": \"\\\\u00a1Amo los gatos! \\\\ud83d\\\\ude3b\"}', 'files': {}, 'form': {}, 'headers': {'Accept': '*/*', 'Accept-Encoding': 'gzip, deflate, zstd', 'Content-Length': '104', 'Content-Type': 'application/json', 'Host': 'httpbin.org', 'User-Agent': 'python-requests/2.32.3', 'X-Amzn-Trace-Id': 'Root=1-67a2b55b-01f5a0847a9e16d93a5024fb'}, 'json': {'edad': '18', 'fan_de_gatos': True, 'mensaje': '¡Amo los gatos! 😻', 'nombre': 'Andres'}, 'origin': '34.73.116.25', 'url': 'https://httpbin.org/post'}\n"
          ]
        }
      ]
    },
    {
      "cell_type": "markdown",
      "source": [
        "# ¿Qué es Streamlit?\n",
        "\n",
        "**Streamlit** es una herramienta que permite crear aplicaciones web de manera sencilla usando solo Python. Es especialmente útil para científicos de datos y analistas porque les permite transformar sus scripts en aplicaciones interactivas sin necesidad de conocimientos en desarrollo web.\n",
        "\n",
        "### 🧐 ¿Por qué usar Streamlit?\n",
        "- Es muy fácil de aprender y usar.\n",
        "- No necesitas escribir código HTML, CSS o JavaScript.\n",
        "- Permite visualizar datos de manera interactiva con gráficos y tablas.\n",
        "- Es ideal para compartir análisis de datos, modelos de machine learning o dashboards.\n",
        "\n",
        "### 🎯 Casos de uso:\n",
        "- **Paneles de control interactivos**: Mostrar métricas de ventas o rendimiento de modelos.\n",
        "- **Exploración de datos**: Crear aplicaciones donde el usuario pueda filtrar y visualizar datos fácilmente.\n",
        "- **Prototipos rápidos**: Construir pruebas de concepto sin necesidad de una interfaz web compleja.\n",
        "\n",
        "### 🏗️ ¿Cómo instalar Streamlit?\n",
        "Para empezar a usar Streamlit, solo necesitas instalarlo en tu entorno de Python. Abre la terminal y ejecuta:\n",
        "\n",
        "```sh\n",
        "pip install streamlit\n"
      ],
      "metadata": {
        "id": "8zo3MgI9lqUM"
      }
    }
  ]
}